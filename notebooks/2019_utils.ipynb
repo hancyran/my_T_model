{
 "cells": [
  {
   "cell_type": "code",
   "execution_count": null,
   "metadata": {},
   "outputs": [],
   "source": []
  },
  {
   "cell_type": "markdown",
   "metadata": {},
   "source": [
    "--------\n",
    "# 保存模型为yaml文件"
   ]
  },
  {
   "cell_type": "code",
   "execution_count": null,
   "metadata": {},
   "outputs": [],
   "source": [
    "def dump_pickle(fileName=None,pickleFile=None,ROOTPATH=None):\n",
    "    if ROOTPATH:\n",
    "        if not os.path.exists(os.path.join(ROOTPATH,fileName)):\n",
    "            os.mknod(os.path.join(ROOTPATH,fileName))\n",
    "        with open(os.path.join(ROOTPATH,fileName),'wb') as f:\n",
    "            pickle.dump(pickleFile,f)\n",
    "    else:\n",
    "        if not os.path.exists(fileName):\n",
    "            os.mknod(os.path.join(fileName))\n",
    "        with open(fileName,'wb') as f:\n",
    "            pickle.dump(pickleFile,f)"
   ]
  },
  {
   "cell_type": "code",
   "execution_count": null,
   "metadata": {},
   "outputs": [],
   "source": [
    " \n",
    "class Config():\n",
    "    def __init__(self,configFile):\n",
    "        self.configFile=configFile\n",
    "        with open(self.configFile,'r') as f:\n",
    "            config=yaml.load(f)\n",
    "            print(\"getting hypeparameters:\\n\",config)\n",
    "            if config:\n",
    "                for k,v in config.items():\n",
    "                    setattr(self,k,v)\n",
    " \n",
    "    def has(self,name):\n",
    "        return hasattr(self,name)\n",
    " \n",
    "    def add(self,name=None,value=None):\n",
    "        if not hasattr(self,name):\n",
    "            setattr(self, name, value)\n",
    "            with open(self.configFile,'a') as f:\n",
    "                f.write(str(name)+\": \"+str(value)+'\\n')\n",
    "        else:\n",
    "            print('\\'{}\\' already exists in \\'config\\' , its values is {} , maybe you just want to change its value?'.format(name,getattr(self,name)))\n"
   ]
  },
  {
   "cell_type": "code",
   "execution_count": null,
   "metadata": {},
   "outputs": [],
   "source": [
    "config = Config('config.yml')\n",
    "# config.add('a',12)\n",
    "print(config.a)\n",
    "config.a=14\n",
    "config.add('a',13)\n",
    "config.save()"
   ]
  },
  {
   "cell_type": "markdown",
   "metadata": {},
   "source": [
    "---------\n",
    "# 训练进度条"
   ]
  },
  {
   "cell_type": "code",
   "execution_count": null,
   "metadata": {},
   "outputs": [],
   "source": [
    "# 训练进度条显示 \n",
    "class ProgressBar:\n",
    "    def __init__(self, count = 0, total = 0, width = 50):\n",
    "        self.count = count\n",
    "        self.total = total\n",
    "        self.width = width\n",
    "    def move(self):\n",
    "        self.count += 1\n",
    "    def log(self, s):\n",
    "        sys.stdout.write(' ' * (self.width + 9) + '\\r')\n",
    "        sys.stdout.flush()\n",
    "        print s\n",
    "        progress = self.width * self.count / self.total\n",
    "        sys.stdout.write('{0:3}/{1:3}: '.format(self.count, self.total))\n",
    "        sys.stdout.write('#' * progress + '-' * (self.width - progress) + '\\r')\n",
    "        if progress == self.width:\n",
    "            sys.stdout.write('\\n')\n",
    "        sys.stdout.flush()\n"
   ]
  },
  {
   "cell_type": "code",
   "execution_count": null,
   "metadata": {},
   "outputs": [],
   "source": [
    "### 建立一个进度条\n",
    "\n",
    "bar = ProgressBar(total = 10)\n",
    "for i in range(10):\n",
    "    bar.move()\n",
    "    bar.log('We have arrived at: ' + str(i + 1))\n",
    "    time.sleep(1)"
   ]
  },
  {
   "cell_type": "markdown",
   "metadata": {},
   "source": [
    "----------\n",
    "# 多线程训练"
   ]
  },
  {
   "cell_type": "code",
   "execution_count": null,
   "metadata": {},
   "outputs": [],
   "source": []
  },
  {
   "cell_type": "code",
   "execution_count": null,
   "metadata": {},
   "outputs": [],
   "source": []
  }
 ],
 "metadata": {
  "kernelspec": {
   "display_name": "Python 3",
   "language": "python",
   "name": "python3"
  },
  "language_info": {
   "codemirror_mode": {
    "name": "ipython",
    "version": 3
   },
   "file_extension": ".py",
   "mimetype": "text/x-python",
   "name": "python",
   "nbconvert_exporter": "python",
   "pygments_lexer": "ipython3",
   "version": "3.6.7"
  }
 },
 "nbformat": 4,
 "nbformat_minor": 2
}
